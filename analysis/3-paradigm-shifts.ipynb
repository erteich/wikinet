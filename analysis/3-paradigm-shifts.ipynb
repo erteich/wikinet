{
 "cells": [
  {
   "cell_type": "markdown",
   "metadata": {},
   "source": [
    "# Load networks"
   ]
  },
  {
   "cell_type": "code",
   "execution_count": null,
   "metadata": {},
   "outputs": [],
   "source": [
    "%reload_ext autoreload\n",
    "%autoreload 2\n",
    "import os,sys\n",
    "sys.path.insert(1, os.path.join(sys.path[0], '..', 'module'))\n",
    "import wiki\n",
    "import numpy as np\n",
    "import pandas as pd\n",
    "import networkx as nx"
   ]
  },
  {
   "cell_type": "code",
   "execution_count": null,
   "metadata": {},
   "outputs": [],
   "source": [
    "path_networks = '/Users/harangju/Developer/data/wiki/graphs/'"
   ]
  },
  {
   "cell_type": "code",
   "execution_count": null,
   "metadata": {},
   "outputs": [],
   "source": [
    "topics = [\n",
    "    'anatomy', 'biochemistry', 'cognitive science', 'evolutionary biology',\n",
    "    'genetics', 'immunology', 'molecular biology', 'chemistry', 'biophysics',\n",
    "    'energy', 'optics', 'earth science', 'geology', 'meteorology',\n",
    "    'philosophy of language', 'philosophy of law', 'philosophy of mind',\n",
    "    'philosophy of science', 'economics', 'accounting', 'education',\n",
    "    'linguistics', 'law', 'psychology', 'sociology', 'electronics',\n",
    "    'software engineering', 'robotics',\n",
    "    'calculus', 'geometry', 'abstract algebra',\n",
    "    'Boolean algebra', 'commutative algebra', 'group theory', 'linear algebra',\n",
    "    'number theory', 'dynamical systems and differential equations'\n",
    "]"
   ]
  },
  {
   "cell_type": "code",
   "execution_count": null,
   "metadata": {},
   "outputs": [],
   "source": [
    "networks = {}\n",
    "for topic in topics:\n",
    "    print(topic, end=' ')\n",
    "#     networks[topic] = wiki.Net()\n",
    "#     networks[topic].load_graph(path_networks+'dated/'+topic+'.pickle')\n",
    "    networks[topic] = wiki.Net(\n",
    "        path_graph=os.path.join(path_networks, 'dated', topic + '.pickle'),\n",
    "        path_barcodes=os.path.join(path_networks, 'dated', topic + '.barcode')\n",
    "    )"
   ]
  },
  {
   "cell_type": "code",
   "execution_count": null,
   "metadata": {},
   "outputs": [],
   "source": [
    "topics += ['physics']\n",
    "networks['physics'] = wiki.Net()\n",
    "networks['physics'].load_graph(os.path.join(path_networks, 'dated', 'physics.pickle'))"
   ]
  },
  {
   "cell_type": "code",
   "execution_count": null,
   "metadata": {
    "scrolled": true
   },
   "outputs": [],
   "source": [
    "num_nulls = 10\n",
    "null_target = {}\n",
    "for topic in topics:\n",
    "    print(topic, end=' ')\n",
    "    null_target[topic] = []\n",
    "    for i in range(num_nulls):\n",
    "        network = wiki.Net()\n",
    "        network.load_graph(\n",
    "            os.path.join(path_networks,'null-target',f\"{topic}-null-{i}.pickle\")\n",
    "        )\n",
    "        null_target[topic].append(network)"
   ]
  },
  {
   "cell_type": "code",
   "execution_count": null,
   "metadata": {
    "scrolled": true
   },
   "outputs": [],
   "source": [
    "num_nulls = 10\n",
    "null_year = {}\n",
    "for topic in topics:\n",
    "    print(topic, end=' ')\n",
    "    null_year[topic] = []\n",
    "    for i in range(num_nulls):\n",
    "        network = wiki.Net()\n",
    "        network.load_graph(\n",
    "            os.path.join(path_networks,'null-year',f\"{topic}-null-{i}.pickle\")\n",
    "        )\n",
    "        null_year[topic].append(network)"
   ]
  },
  {
   "cell_type": "code",
   "execution_count": null,
   "metadata": {},
   "outputs": [],
   "source": [
    "num_nulls = 1\n",
    "null_jitter = {}\n",
    "for topic in topics:\n",
    "    print(topic, end=' ')\n",
    "    null_jitter[topic] = []\n",
    "    for i in range(num_nulls):\n",
    "        network = wiki.Net()\n",
    "        network.load_graph(\n",
    "            os.path.join(path_networks, 'null-jitter [-1,1]', f\"{topic}-null-{i}.pickle\")\n",
    "        )\n",
    "        null_jitter[topic].append(network)"
   ]
  },
  {
   "cell_type": "markdown",
   "metadata": {},
   "source": [
    "# Plot"
   ]
  },
  {
   "cell_type": "code",
   "execution_count": null,
   "metadata": {},
   "outputs": [],
   "source": [
    "import plotly\n",
    "import plotly.express as px\n",
    "import plotly.graph_objs as go\n",
    "import plotly.figure_factory as ff\n",
    "import plotly.subplots as ps\n",
    "from IPython.display import display\n",
    "plotly.offline.init_notebook_mode(connected=True)"
   ]
  },
  {
   "cell_type": "code",
   "execution_count": null,
   "metadata": {},
   "outputs": [],
   "source": [
    "# path_fig = '/Users/harangju/Box Sync/Research/my papers/wikipedia/results/'\n",
    "path_fig = '/Users/harangju/Library/Mobile Documents/com~apple~CloudDocs/Documents/' +\\\n",
    "    'research/wikipedia/results'\n",
    "save_fig = False"
   ]
  },
  {
   "cell_type": "markdown",
   "metadata": {},
   "source": [
    "# Growing networks"
   ]
  },
  {
   "cell_type": "code",
   "execution_count": null,
   "metadata": {
    "scrolled": false
   },
   "outputs": [],
   "source": [
    "comm_t = pd.DataFrame()\n",
    "for topic, network in networks.items():\n",
    "    print(topic, end=' ')\n",
    "    comm_t = pd.concat([comm_t] +\n",
    "                       [pd.DataFrame([[topic,\n",
    "                                       node,\n",
    "                                       network.graph.nodes[node]['year'],\n",
    "                                       network.graph.nodes[node]['community'],\n",
    "                                       network.graph.nodes[node]['core_be'],\n",
    "                                       network.graph.nodes[node]['core_rb'],\n",
    "                                       1]],\n",
    "                                     columns=['topic','node','year',\n",
    "                                              'comm','core_be','core_rb',\n",
    "                                              'count'])\n",
    "                        for node in network.graph.nodes],\n",
    "                       ignore_index=True)\n",
    "comm_t = comm_t.merge(comm_t.groupby(['topic','comm'])['count'].sum(),\n",
    "                      on=['topic','comm'],\n",
    "                      suffixes=('','_topic_comm'))\\\n",
    "               .merge(comm_t.groupby(['topic','core_be'])['count'].sum(),\n",
    "                      on=['topic','core_be'],\n",
    "                      suffixes=('','_topic_core_be'))\\\n",
    "               .sort_values(by=['topic','year'])\\\n",
    "               .reset_index(drop=True)\n",
    "comm_t['comm_count'] = comm_t.groupby(['topic','comm'])['count']\\\n",
    "                             .transform(pd.Series.cumsum)\n",
    "comm_t['core_be_count'] = comm_t.groupby(['topic','core_be'])['count']\\\n",
    "                                .transform(pd.Series.cumsum)\n",
    "comm_t['comm_frac'] = comm_t['comm_count']/comm_t['count_topic_comm']\n",
    "comm_t['core_be_frac'] = comm_t['core_be_count']/comm_t['count_topic_core_be']\n",
    "comm_t = comm_t.drop(['count','count_topic_comm','count_topic_core_be'], axis=1)"
   ]
  },
  {
   "cell_type": "code",
   "execution_count": null,
   "metadata": {
    "scrolled": false
   },
   "outputs": [],
   "source": [
    "comm_t"
   ]
  },
  {
   "cell_type": "code",
   "execution_count": null,
   "metadata": {},
   "outputs": [],
   "source": [
    "community = 1\n",
    "network = networks['anatomy']\n",
    "[node for node in network.graph.nodes if network.graph.nodes[node]['community']==community][:3]"
   ]
  },
  {
   "cell_type": "code",
   "execution_count": null,
   "metadata": {},
   "outputs": [],
   "source": [
    "communities = set([network.graph.nodes[node]['community'] for node in network.graph.nodes])"
   ]
  },
  {
   "cell_type": "code",
   "execution_count": null,
   "metadata": {},
   "outputs": [],
   "source": [
    "import operator"
   ]
  },
  {
   "cell_type": "code",
   "execution_count": null,
   "metadata": {},
   "outputs": [],
   "source": [
    "hubs = {}\n",
    "for topic in topics:\n",
    "    hubs[topic] = {}\n",
    "    network = networks[topic]\n",
    "    communities = set([network.graph.nodes[node]['community'] for node in network.graph.nodes])\n",
    "    for community in communities:\n",
    "        subgraph = network.graph.subgraph(\n",
    "            [node for node in network.graph.nodes if network.graph.nodes[node]['community']==community]\n",
    "        )\n",
    "        hub = max(dict(subgraph.degree).items(), key=operator.itemgetter(1))[0]\n",
    "        hubs[topic][community] = hub"
   ]
  },
  {
   "cell_type": "markdown",
   "metadata": {},
   "source": [
    "# Modularity"
   ]
  },
  {
   "cell_type": "code",
   "execution_count": null,
   "metadata": {},
   "outputs": [],
   "source": [
    "import os\n",
    "\n",
    "path_plot = '5 modules'\n",
    "\n",
    "if not os.path.exists(f\"{path_fig}/{path_plot}\"):\n",
    "    os.mkdir(f\"{path_fig}/{path_plot}\")"
   ]
  },
  {
   "cell_type": "markdown",
   "metadata": {},
   "source": [
    "## Count"
   ]
  },
  {
   "cell_type": "code",
   "execution_count": null,
   "metadata": {},
   "outputs": [],
   "source": [
    "import os\n",
    "\n",
    "if not os.path.exists(f\"{path_fig}/{path_plot}/count/\"):\n",
    "    os.mkdir(f\"{path_fig}/{path_plot}/count\")"
   ]
  },
  {
   "cell_type": "code",
   "execution_count": null,
   "metadata": {
    "scrolled": false
   },
   "outputs": [],
   "source": [
    "for topic in ['physics']: #networks.keys():\n",
    "    fig = go.Figure()\n",
    "    data = comm_t[comm_t.topic==topic]\n",
    "    for i in range(16): #sorted(pd.unique(data.comm)):\n",
    "        fig.add_trace(\n",
    "            go.Scatter(\n",
    "                x=data[data.comm==i]['year'],\n",
    "                y=data[data.comm==i]['comm_count'],\n",
    "                mode='lines', name=hubs[topic][i],\n",
    "            )\n",
    "        )\n",
    "    fig.update_layout(template='plotly_white',\n",
    "                      title_text=topic,\n",
    "                      xaxis={'range': [0,2100],\n",
    "                             'title': 'year'},\n",
    "                      yaxis={'title': '# nodes',\n",
    "                             'range': [1,np.log10(np.max(data.comm_count))],\n",
    "                             'type': 'linear'})\n",
    "    fig.show()\n",
    "    fig.write_image(f\"{path_fig}/{path_plot}/count/{topic}.pdf\")"
   ]
  },
  {
   "cell_type": "markdown",
   "metadata": {},
   "source": [
    "## Growth"
   ]
  },
  {
   "cell_type": "code",
   "execution_count": null,
   "metadata": {},
   "outputs": [],
   "source": [
    "import os\n",
    "\n",
    "if not os.path.exists(f\"{path_fig}/{path_plot}/growth/\"):\n",
    "    os.mkdir(f\"{path_fig}/{path_plot}/growth\")"
   ]
  },
  {
   "cell_type": "code",
   "execution_count": null,
   "metadata": {
    "scrolled": false
   },
   "outputs": [],
   "source": [
    "for topic in ['physics']: #networks.keys():\n",
    "    fig = go.Figure()\n",
    "    data = comm_t[comm_t.topic==topic]\n",
    "    for i in range(16): #sorted(pd.unique(data.comm)):\n",
    "        fig.add_trace(\n",
    "            go.Scatter(\n",
    "                x=data[data.comm==i]['year'],\n",
    "                y=i*np.ones(len(data[data.comm==i].index)),\n",
    "                mode='markers', name=hubs[topic][i],\n",
    "            )\n",
    "        )\n",
    "    fig.update_layout(template='plotly_white',\n",
    "                      title_text=topic,\n",
    "                      showlegend=False,\n",
    "                      xaxis={'range': [0,2100],\n",
    "                             'title': 'year'},\n",
    "                      yaxis={'title': 'communities (by hubs)',\n",
    "                             'range': [-1,i+1]})\n",
    "    fig.update_yaxes(\n",
    "        tickvals=list(range(16)),\n",
    "        ticktext=[hubs[topic][i] for i in range(0,16)]\n",
    "    )\n",
    "    fig.show()\n",
    "    fig.write_image(f\"{path_fig}/{path_plot}/growth/{topic}.pdf\")"
   ]
  },
  {
   "cell_type": "code",
   "execution_count": null,
   "metadata": {},
   "outputs": [],
   "source": [
    "years"
   ]
  },
  {
   "cell_type": "code",
   "execution_count": null,
   "metadata": {},
   "outputs": [],
   "source": [
    "for topic in networks.keys():\n",
    "    fig = go.Figure()\n",
    "    data = comm_t[comm_t.topic==topic]\n",
    "    for i in range(10): #sorted(pd.unique(data.comm)):\n",
    "        years = data[data.comm==i].year\n",
    "        x = list(range(min(years)-1, max(years)))\n",
    "        y = np.zeros(len(x))\n",
    "        for year in years:\n",
    "            y[year-min(years)] += 1\n",
    "        fig.add_trace(\n",
    "            go.Scatter(x=x, y=y, mode='lines', name=hubs[topic][i])\n",
    "        )\n",
    "    fig.update_layout(template='plotly_white',\n",
    "                      title_text=topic,\n",
    "                      xaxis={'range': [0,2100],\n",
    "                             'title': 'year'},\n",
    "                      yaxis={'title': 'growth'})\n",
    "    fig.show()\n",
    "    fig.write_image(f\"{path_fig}/{path_plot}/growth/{topic}.pdf\")"
   ]
  },
  {
   "cell_type": "markdown",
   "metadata": {},
   "source": [
    "# Change in community\n",
    "\n",
    "Alternative conceptions to scientific revolution [link](https://plato.stanford.edu/entries/scientific-revolutions/#SomAltConSciRev)\n",
    "\n",
    "> a prototype for revolutionary reorientation in the sciences. Just because it did not involve the introduction of additional objects or concepts, the transition from Newtonian to Einsteinian mechanics illustrates with particular clarity the scientific revolution as a displacement of the conceptual network through which scientists view the world. (Kuhn, 1970, 102)\n",
    "\n",
    "Perhaps we can frame paradigm shifts as changes to the organization of knowledge as communities."
   ]
  },
  {
   "cell_type": "code",
   "execution_count": null,
   "metadata": {},
   "outputs": [],
   "source": [
    "import os\n",
    "\n",
    "path_plot = '5 modules'\n",
    "\n",
    "if not os.path.exists(f\"{path_fig}/{path_plot}\"):\n",
    "    os.mkdir(f\"{path_fig}/{path_plot}\")"
   ]
  },
  {
   "cell_type": "code",
   "execution_count": null,
   "metadata": {},
   "outputs": [],
   "source": [
    "import os\n",
    "\n",
    "if not os.path.exists(f\"{path_fig}/{path_plot}/community\"):\n",
    "    os.mkdir(f\"{path_fig}/{path_plot}/community\")"
   ]
  },
  {
   "cell_type": "code",
   "execution_count": null,
   "metadata": {
    "scrolled": true
   },
   "outputs": [],
   "source": [
    "import plotly.express as px\n",
    "\n",
    "px.colors.qualitative.Plotly[:3]"
   ]
  },
  {
   "cell_type": "code",
   "execution_count": null,
   "metadata": {},
   "outputs": [],
   "source": [
    "from networkx.algorithms.community import greedy_modularity_communities"
   ]
  },
  {
   "cell_type": "markdown",
   "metadata": {},
   "source": [
    "## Multilayer"
   ]
  },
  {
   "cell_type": "code",
   "execution_count": null,
   "metadata": {},
   "outputs": [],
   "source": [
    "def compute_multinet(g):\n",
    "    multinet = nx.DiGraph()\n",
    "    years = sorted(nx.get_node_attributes(g, 'year').values())\n",
    "    for i, year in enumerate(years):\n",
    "        nodes = [node for node in g.nodes if g.nodes[node]['year']<=year]\n",
    "        subgraph = nx.subgraph(g, nodes)\n",
    "        multinet.add_nodes_from(\n",
    "            [(f\"{n}_{year}\", {'year': g.nodes[n]['year']}) for n in subgraph.nodes]\n",
    "        )\n",
    "        multinet.add_edges_from(\n",
    "            [(f\"{s}_{year}\", f\"{t}_{year}\") for s,t in subgraph.edges]\n",
    "        )\n",
    "        if i>0:\n",
    "            prev_nodes = [\n",
    "                node for node in g.nodes if g.nodes[node]['year']<=years[i-1]\n",
    "            ]\n",
    "            multinet.add_edges_from(\n",
    "                [(f\"{n}_{years[i-1]}\", f\"{n}_{year}\") for n in prev_nodes],\n",
    "                weight=0.0001\n",
    "            )\n",
    "    return multinet"
   ]
  },
  {
   "cell_type": "code",
   "execution_count": null,
   "metadata": {},
   "outputs": [],
   "source": [
    "topics = ['cognitive science']"
   ]
  },
  {
   "cell_type": "code",
   "execution_count": null,
   "metadata": {},
   "outputs": [],
   "source": [
    "multinets = {}\n",
    "for topic in topics:\n",
    "    multinets[topic] = compute_multinet(graph)"
   ]
  },
  {
   "cell_type": "code",
   "execution_count": null,
   "metadata": {},
   "outputs": [],
   "source": [
    "multicomms = {}\n",
    "for topic in topics:\n",
    "    multicomms[topic] = greedy_modularity_communities(nx.Graph(multinets[topic]))"
   ]
  },
  {
   "cell_type": "code",
   "execution_count": null,
   "metadata": {
    "scrolled": false
   },
   "outputs": [],
   "source": [
    "for topic in [topic]: #topics:\n",
    "    fig = go.Figure()\n",
    "    graph = networks[topic].graph\n",
    "    years = sorted(nx.get_node_attributes(graph, 'year').values())\n",
    "    nodes = [n for y in years for n in graph.nodes if graph.nodes[n]['year']==y]\n",
    "    for i, c in enumerate(multicomms[topic]):\n",
    "        x = []\n",
    "        y = []\n",
    "        for node in c:\n",
    "            name, year = node.split('_', 1)\n",
    "            x.append(years.index(int(year)))\n",
    "            y.append(nodes.index(name))\n",
    "        fig.add_trace(\n",
    "            go.Scatter(\n",
    "                x=x, y=y,\n",
    "                mode='markers',\n",
    "                marker={'color': px.colors.qualitative.Plotly[i%10]},\n",
    "                name=i\n",
    "            )\n",
    "        )\n",
    "    fig.update_yaxes(ticktext=[], tickvals=[])\n",
    "    fig.update_layout(\n",
    "        template='plotly_white',\n",
    "        title_text=topic,\n",
    "        xaxis={'title': 'time'},\n",
    "        yaxis={'title': 'nodes'}\n",
    "    )\n",
    "    fig.show()\n",
    "# fig.write_image(f\"{path_fig}/{path_plot}/community/{topic}.pdf\")"
   ]
  },
  {
   "cell_type": "markdown",
   "metadata": {},
   "source": [
    "## By layer"
   ]
  },
  {
   "cell_type": "code",
   "execution_count": null,
   "metadata": {},
   "outputs": [],
   "source": [
    "def compute_comm_by_layer(graph):\n",
    "    comms = []\n",
    "    years = sorted(nx.get_node_attributes(graph, 'year').values())\n",
    "    for i, year in enumerate(years):\n",
    "        nodes = [n for n in graph.nodes if graph.nodes[n]['year']<=year]\n",
    "        if len(nodes)<3:\n",
    "            comms += [[nodes]]\n",
    "        else:\n",
    "            subgraph = nx.subgraph(graph, nodes)\n",
    "            comms += [greedy_modularity_communities(nx.Graph(subgraph))]\n",
    "    return comms, years"
   ]
  },
  {
   "cell_type": "code",
   "execution_count": null,
   "metadata": {},
   "outputs": [],
   "source": [
    "for topic in ['cognitive science']: #topics:\n",
    "    fig = go.Figure()\n",
    "    graph = networks[topic].graph\n",
    "    comms, years = compute_comm_by_layer(graph)\n",
    "    nodes = [n for y in years for n in graph.nodes if graph.nodes[n]['year']==y]\n",
    "    groups = []\n",
    "    for i, year in enumerate(years):\n",
    "        for j, c in enumerate(comms[i]):\n",
    "            \n",
    "            fig.add_trace(\n",
    "                go.Scatter(\n",
    "                    x=i*np.ones(len(c)), y=[nodes.index(n) for n in c],\n",
    "                    mode='markers', name=j\n",
    "                )\n",
    "            )\n",
    "    fig.update_yaxes(ticktext=[], tickvals=[])\n",
    "    fig.update_layout(\n",
    "        template='plotly_white',\n",
    "        title_text=topic,\n",
    "        xaxis={'title': 'time'},\n",
    "        yaxis={'title': 'nodes'}\n",
    "    )\n",
    "    fig.show()\n",
    "# fig.write_image(f\"{path_fig}/{path_plot}/community/{topic}.pdf\")"
   ]
  },
  {
   "cell_type": "markdown",
   "metadata": {},
   "source": [
    "## Leiden\n",
    "\n",
    "[link](http://netwiki.amath.unc.edu/GenLouvain/GenLouvain)\n",
    "[leidenalg](https://leidenalg.readthedocs.io/en/latest/intro.html)"
   ]
  },
  {
   "cell_type": "code",
   "execution_count": null,
   "metadata": {},
   "outputs": [],
   "source": [
    "import scipy as sp\n",
    "import leidenalg as la\n",
    "import igraph as ig\n",
    "import pickle"
   ]
  },
  {
   "cell_type": "markdown",
   "metadata": {},
   "source": [
    "### iGraph"
   ]
  },
  {
   "cell_type": "code",
   "execution_count": null,
   "metadata": {},
   "outputs": [],
   "source": [
    "def networkx_to_igraph(nx_graph, vertex_id=None):\n",
    "    nodes = list(nx_graph.nodes)\n",
    "    ig_graph = ig.Graph()\n",
    "    ig_graph.add_vertices(list(range(len(nodes))))\n",
    "    ig_graph.vs['name'] = nodes\n",
    "    ig_graph.vs['year'] = [nx_graph.nodes[n]['year'] for n in nodes]\n",
    "    ig_graph.add_edges([\n",
    "        (nodes.index(s), nodes.index(t)) for s,t in nx_graph.edges\n",
    "    ])\n",
    "    ig_graph.es['weight'] = [nx_graph.edges[s,t]['weight'] for s,t in nx_graph.edges]\n",
    "    if vertex_id:\n",
    "        ig_graph.vs['id'] = vertex_id\n",
    "    return ig_graph"
   ]
  },
  {
   "cell_type": "code",
   "execution_count": null,
   "metadata": {
    "scrolled": true
   },
   "outputs": [],
   "source": [
    "g = networkx_to_igraph(networks['earth science'].graph)\n",
    "partition = la.find_partition(g, la.ModularityVertexPartition)\n",
    "layout = g.layout('circle')\n",
    "ig.plot(\n",
    "    partition, layout=layout, bbox=(500, 500), margin=50,\n",
    "    vertex_size=5, vertex_label_size=10,\n",
    "    edge_width=0.1, edge_curved=True\n",
    ")"
   ]
  },
  {
   "cell_type": "markdown",
   "metadata": {},
   "source": [
    "### Temporal partition"
   ]
  },
  {
   "cell_type": "code",
   "execution_count": null,
   "metadata": {
    "scrolled": true
   },
   "outputs": [],
   "source": [
    "graph = networks['earth science'].graph\n",
    "nodes = list(graph.nodes)\n",
    "years = sorted(nx.get_node_attributes(graph, 'year').values())\n",
    "nodes_by_year = [\n",
    "    [n for n in nodes if graph.nodes[n]['year']<=year]\n",
    "    for year in years\n",
    "]\n",
    "membership, improvement = la.find_partition_temporal(\n",
    "    [\n",
    "        networkx_to_igraph(\n",
    "            nx.subgraph(graph, nodes_by_year[i]),\n",
    "            [nodes.index(n) for n in nodes_by_year[i]]\n",
    "        )\n",
    "        for i, year in enumerate(years)\n",
    "    ],\n",
    "    la.ModularityVertexPartition,\n",
    "    interslice_weight=1,\n",
    ")\n",
    "membership[:3], improvement"
   ]
  },
  {
   "cell_type": "markdown",
   "metadata": {},
   "source": [
    "### Function"
   ]
  },
  {
   "cell_type": "code",
   "execution_count": null,
   "metadata": {},
   "outputs": [],
   "source": [
    "def calc_num_changes(nodes, nodes_by_year, membership):\n",
    "    membership_by_node = [\n",
    "        [\n",
    "            membership[y][ns.index(node)]\n",
    "            for y, ns in enumerate(nodes_by_year)\n",
    "            if node in ns\n",
    "        ]\n",
    "        for node in nodes\n",
    "    ]\n",
    "    memdiff = [\n",
    "        np.diff(x, prepend=x[0]).astype(bool).astype(int)\n",
    "        for x in membership_by_node\n",
    "    ]\n",
    "    matrix = np.zeros((len(nodes), len(years)))\n",
    "    for i, diffs in enumerate(memdiff):\n",
    "        matrix[i, len(years)-diffs.size:] = diffs\n",
    "    return matrix.sum(axis=0)"
   ]
  },
  {
   "cell_type": "markdown",
   "metadata": {},
   "source": [
    "### Plot example"
   ]
  },
  {
   "cell_type": "code",
   "execution_count": null,
   "metadata": {},
   "outputs": [],
   "source": [
    "import os\n",
    "\n",
    "if not os.path.exists(os.path.join(path_fig, path_plot, 'community', f\"{Cjrs}\")):\n",
    "    os.mkdir(os.path.join(path_fig, path_plot, 'community', f\"{Cjrs}\"))"
   ]
  },
  {
   "cell_type": "code",
   "execution_count": null,
   "metadata": {},
   "outputs": [],
   "source": [
    "len(networks['geology'].graph.nodes)"
   ]
  },
  {
   "cell_type": "code",
   "execution_count": null,
   "metadata": {},
   "outputs": [],
   "source": [
    "Cjrs = 0.001"
   ]
  },
  {
   "cell_type": "code",
   "execution_count": null,
   "metadata": {},
   "outputs": [],
   "source": [
    "# graph = networks['cognitive science'].graph\n",
    "graph = networks['Boolean algebra'].graph\n",
    "nodes = [n for n in graph.nodes]\n",
    "# nodes.remove('Descriptive linguistics')\n",
    "# nodes.remove('Alan Turing')\n",
    "lesioned_graph = nx.subgraph(graph, nodes)"
   ]
  },
  {
   "cell_type": "code",
   "execution_count": null,
   "metadata": {},
   "outputs": [],
   "source": [
    "memberships = {}\n",
    "improvements = {}\n",
    "for topic in ['cognitive science']:\n",
    "    fig = go.Figure()\n",
    "#     graph = networks[topic].graph\n",
    "    graph = lesioned_graph\n",
    "    nodes = list(graph.nodes)\n",
    "    sorted_nodes = sorted(\n",
    "        nodes,\n",
    "        key=lambda node: graph.nodes[node]['year']\n",
    "    )\n",
    "    years = sorted(set(nx.get_node_attributes(graph, 'year').values()))\n",
    "#     years = sorted(nx.get_node_attributes(graph, 'year').values())\n",
    "    nodes_by_year = [\n",
    "        [n for n in nodes if graph.nodes[n]['year']<=year]\n",
    "        for year in years\n",
    "    ]\n",
    "    memberships[topic], improvements[topic] = la.find_partition_temporal(\n",
    "        [\n",
    "            networkx_to_igraph(\n",
    "                nx.subgraph(graph, nodes_by_year[i]),\n",
    "                [nodes.index(n) for n in nodes_by_year[i]]\n",
    "            )\n",
    "            for i, year in enumerate(years)\n",
    "        ],\n",
    "        la.ModularityVertexPartition,\n",
    "        interslice_weight=Cjrs,\n",
    "        n_iterations=-1,\n",
    "    )\n",
    "    pickle.dump(\n",
    "        (memberships, improvements),\n",
    "        open(\n",
    "            os.path.join(path_fig, path_plot, 'community', f\"{topic}.pickle\"),\n",
    "            'wb'\n",
    "        )\n",
    "    )\n",
    "    partitions = sorted(list(set([j for i in memberships[topic] for j in i])))\n",
    "    for part in partitions:\n",
    "        xy = [\n",
    "            (i, sorted_nodes.index(n))\n",
    "            for i, ns in enumerate(nodes_by_year)\n",
    "            for j, n in enumerate(ns)\n",
    "            if memberships[topic][i][j]==part\n",
    "        ]\n",
    "        fig.add_trace(\n",
    "            go.Scatter(\n",
    "                x=[i[0] for i in xy],\n",
    "                y=[i[1] for i in xy],\n",
    "                mode='markers',\n",
    "                marker={'size': 3},\n",
    "                name=part,\n",
    "                hovertext=[sorted_nodes[i[1]] for i in xy]\n",
    "            )\n",
    "        )\n",
    "    num_changes = calc_num_changes(sorted_nodes, nodes_by_year, memberships[topic])\n",
    "    fig.add_trace(\n",
    "        go.Scatter(\n",
    "            x=np.arange(len(years)),\n",
    "            y=num_changes,\n",
    "            name='number of changes',\n",
    "            marker_color='black',\n",
    "            opacity=0.5\n",
    "        )\n",
    "    )\n",
    "    fig.update_yaxes(ticktext=[], tickvals=[])\n",
    "    fig.update_xaxes(\n",
    "        tickvals=list(range(len(years)))[0::int(len(years)/10)],\n",
    "        ticktext=years[0::int(len(years)/10)]\n",
    "    )\n",
    "    fig.update_layout(\n",
    "        template='plotly_white',\n",
    "        title_text=topic,\n",
    "        xaxis={'title': 'years'},\n",
    "        yaxis={'title': 'nodes'},\n",
    "        legend={'x': 0, 'y': 1}\n",
    "    )\n",
    "    fig.show()\n",
    "#     fig.write_image(\n",
    "#         os.path.join(path_fig, path_plot, 'community', f\"{Cjrs}\", f\"{topic}.pdf\")\n",
    "#     )"
   ]
  },
  {
   "cell_type": "code",
   "execution_count": null,
   "metadata": {},
   "outputs": [],
   "source": [
    "from scipy.stats import expon\n",
    "\n",
    "for topic in ['cognitive science']:\n",
    "#     graph = networks[topic].graph\n",
    "    graph = lesioned_graph\n",
    "    nodes = list(graph.nodes)\n",
    "    years = sorted(set(nx.get_node_attributes(graph, 'year').values()))\n",
    "    nodes_by_year = [\n",
    "        [n for n in nodes if graph.nodes[n]['year']<=year]\n",
    "        for year in years\n",
    "    ]\n",
    "#     norm_changes = changes / np.array([len(ns) for ns in nodes_by_year])\n",
    "    norm_changes = num_changes * np.divide(\n",
    "        np.array([len(ns) for ns in nodes_by_year]),\n",
    "        np.ones(len(nodes_by_year)) * len(nodes)\n",
    "    )\n",
    "    hist, bin_edges = np.histogram(norm_changes, density=True, bins=20)\n",
    "    bins = 0.5 * (bin_edges[:-1] + bin_edges[1:])\n",
    "    fig = px.bar(x=bins, y=hist)\n",
    "    x = np.arange(.2, np.max(bin_edges), .1)\n",
    "    l = expon.fit(norm_changes)\n",
    "    fig.add_trace(go.Scatter(x=x, y=l[1]*np.exp(-l[1]*x), mode='lines', opacity=0.5))\n",
    "    fig.update_layout(\n",
    "        width=600, height=300,\n",
    "        template='plotly_white',\n",
    "        title_text=topic, showlegend=False,\n",
    "        xaxis={'title': 'number of changes'},\n",
    "        yaxis={'title': 'density'}\n",
    "    )\n",
    "    fig.show()\n",
    "#     fig.write_image(\n",
    "#         os.path.join(path_fig, path_plot, 'community', f\"{Cjrs}\", f\"distribution_{topic}.jpg\")\n",
    "#     )"
   ]
  },
  {
   "cell_type": "code",
   "execution_count": null,
   "metadata": {},
   "outputs": [],
   "source": [
    "len(num_changes), len(years), len(nodes_by_year), len(changes)"
   ]
  },
  {
   "cell_type": "markdown",
   "metadata": {},
   "source": [
    "**Stability**\n",
    "\n",
    "Field is unstable earlier on. Field becomes more stable later on."
   ]
  },
  {
   "cell_type": "code",
   "execution_count": null,
   "metadata": {},
   "outputs": [],
   "source": [
    "year_max_delta = np.argmax(num_changes)+1\n",
    "years[year_max_delta]"
   ]
  },
  {
   "cell_type": "code",
   "execution_count": null,
   "metadata": {},
   "outputs": [],
   "source": [
    "[n for n in graph.nodes if graph.nodes[n]['year']==years[year_max_delta]]"
   ]
  },
  {
   "cell_type": "code",
   "execution_count": null,
   "metadata": {
    "scrolled": true
   },
   "outputs": [],
   "source": [
    "set(nodes_by_year[year_max_delta])-set(nodes_by_year[year_max_delta-1])"
   ]
  },
  {
   "cell_type": "markdown",
   "metadata": {},
   "source": [
    "### Δmembership"
   ]
  },
  {
   "cell_type": "markdown",
   "metadata": {},
   "source": [
    "Paradigm shift measured by how much the addition of a node changes the existing community structure."
   ]
  },
  {
   "cell_type": "code",
   "execution_count": null,
   "metadata": {},
   "outputs": [],
   "source": [
    "len(memberships[topic]), len(nodes_by_year), len(nodes)"
   ]
  },
  {
   "cell_type": "code",
   "execution_count": null,
   "metadata": {
    "scrolled": true
   },
   "outputs": [],
   "source": [
    "len(calc_num_changes(nodes, nodes_by_year, memberships[topic]))"
   ]
  },
  {
   "cell_type": "code",
   "execution_count": null,
   "metadata": {},
   "outputs": [],
   "source": [
    "membership_by_node = [\n",
    "    [\n",
    "        memberships[topic][y][ns.index(node)]\n",
    "        for y, ns in enumerate(nodes_by_year)\n",
    "        if node in ns\n",
    "    ]\n",
    "    for node in sorted_nodes\n",
    "]"
   ]
  },
  {
   "cell_type": "code",
   "execution_count": null,
   "metadata": {},
   "outputs": [],
   "source": [
    "np.concatenate(\n",
    "    (\n",
    "        np.array([membership_by_node[0]]),\n",
    "        np.array([np.diff(\n",
    "            membership_by_node[0],\n",
    "            prepend=membership_by_node[0][0]\n",
    "        ).astype(bool).astype(int)])\n",
    "    ),\n",
    "    axis=0\n",
    ")"
   ]
  },
  {
   "cell_type": "code",
   "execution_count": null,
   "metadata": {
    "scrolled": true
   },
   "outputs": [],
   "source": [
    "memdiff = [np.diff(x, prepend=x[0]).astype(bool).astype(int) for x in membership_by_node]\n",
    "memdiff[0:-1:30]"
   ]
  },
  {
   "cell_type": "code",
   "execution_count": null,
   "metadata": {},
   "outputs": [],
   "source": [
    "matrix = np.zeros((len(nodes), len(years)))\n",
    "for i, diffs in enumerate(memdiff):\n",
    "    matrix[i, len(years)-diffs.size:] = diffs\n",
    "matrix"
   ]
  },
  {
   "cell_type": "code",
   "execution_count": null,
   "metadata": {
    "scrolled": true
   },
   "outputs": [],
   "source": [
    "matrix.sum(axis=0)"
   ]
  },
  {
   "cell_type": "code",
   "execution_count": null,
   "metadata": {},
   "outputs": [],
   "source": [
    "len(matrix.sum(axis=0)), len(years), len(matrix.sum(axis=1)), len(nodes)"
   ]
  },
  {
   "cell_type": "markdown",
   "metadata": {},
   "source": [
    "### Change point detection"
   ]
  },
  {
   "cell_type": "code",
   "execution_count": null,
   "metadata": {},
   "outputs": [],
   "source": [
    "from rpy2 import robjects\n",
    "from rpy2.robjects.packages import importr\n",
    "from rpy2.robjects.vectors import FloatVector"
   ]
  },
  {
   "cell_type": "code",
   "execution_count": null,
   "metadata": {},
   "outputs": [],
   "source": [
    "cpt = importr('changepoint')\n",
    "cpt"
   ]
  },
  {
   "cell_type": "code",
   "execution_count": null,
   "metadata": {},
   "outputs": [],
   "source": [
    "num_changes"
   ]
  },
  {
   "cell_type": "code",
   "execution_count": null,
   "metadata": {
    "scrolled": true
   },
   "outputs": [],
   "source": [
    "FloatVector(num_changes)"
   ]
  },
  {
   "cell_type": "code",
   "execution_count": null,
   "metadata": {
    "scrolled": true
   },
   "outputs": [],
   "source": [
    "pts = cpt.cpts(cpt.cpt_mean(FloatVector(num_changes), method='BinSeg'))\n",
    "pts"
   ]
  },
  {
   "cell_type": "code",
   "execution_count": null,
   "metadata": {},
   "outputs": [],
   "source": [
    "pts = cpt.cpts(cpt.cpt_mean(FloatVector(num_changes), method='BinSeg', Q=2))\n",
    "pts"
   ]
  },
  {
   "cell_type": "code",
   "execution_count": null,
   "metadata": {},
   "outputs": [],
   "source": [
    "pts = cpt.cpts(cpt.cpt_meanvar(FloatVector(num_changes), method='BinSeg', test_stat='Poisson', Q=2))\n",
    "pts"
   ]
  },
  {
   "cell_type": "code",
   "execution_count": null,
   "metadata": {},
   "outputs": [],
   "source": [
    "pts = cpt.cpts(\n",
    "    cpt.cpt_var(\n",
    "        FloatVector(num_changes),\n",
    "        method='BinSeg',\n",
    "    )\n",
    ")\n",
    "pts"
   ]
  },
  {
   "cell_type": "code",
   "execution_count": null,
   "metadata": {},
   "outputs": [],
   "source": [
    "pts[0]"
   ]
  },
  {
   "cell_type": "code",
   "execution_count": null,
   "metadata": {},
   "outputs": [],
   "source": [
    "for topic in ['cognitive science']:\n",
    "    fig = go.Figure()\n",
    "#     graph = networks[topic].graph\n",
    "    graph = lesioned_graph\n",
    "    nodes = list(graph.nodes)\n",
    "    sorted_nodes = sorted(\n",
    "        nodes,\n",
    "        key=lambda node: graph.nodes[node]['year']\n",
    "    )\n",
    "    years = sorted(set(nx.get_node_attributes(graph, 'year').values()))\n",
    "#     years = sorted(nx.get_node_attributes(graph, 'year').values())\n",
    "    nodes_by_year = [\n",
    "        [n for n in nodes if graph.nodes[n]['year']<=year]\n",
    "        for year in years\n",
    "    ]\n",
    "    partitions = sorted(list(set([j for i in memberships[topic] for j in i])))\n",
    "    for part in partitions:\n",
    "        xy = [\n",
    "            (i, sorted_nodes.index(n))\n",
    "            for i, ns in enumerate(nodes_by_year)\n",
    "            for j, n in enumerate(ns)\n",
    "            if memberships[topic][i][j]==part\n",
    "        ]\n",
    "        fig.add_trace(\n",
    "            go.Scatter(\n",
    "                x=[i[0] for i in xy],\n",
    "                y=[i[1] for i in xy],\n",
    "                mode='markers',\n",
    "                marker={'size': 3},\n",
    "                name=part,\n",
    "                hovertext=[sorted_nodes[i[1]] for i in xy]\n",
    "            )\n",
    "        )\n",
    "    num_changes = calc_num_changes(sorted_nodes, nodes_by_year, memberships[topic])\n",
    "    fig.add_trace(\n",
    "        go.Scatter(\n",
    "            x=np.arange(len(years)),\n",
    "            y=num_changes,\n",
    "            name='number of changes',\n",
    "            marker_color='black',\n",
    "            opacity=0.5\n",
    "        )\n",
    "    )\n",
    "#     for pt in pts:\n",
    "    fig.add_trace(\n",
    "        go.Scatter(\n",
    "            x=np.array([pt if i<99 else None for pt in pts for i in range(100)]),\n",
    "            y=np.array([i if i<99 else None for pt in pts for i in range(100)]),\n",
    "            mode='lines', \n",
    "            line_dash='dash',\n",
    "            name=f\"change point\",\n",
    "            marker_color='rgba(0,0,0,1)'\n",
    "        )\n",
    "    )\n",
    "    fig.update_yaxes(ticktext=[], tickvals=[])\n",
    "    fig.update_xaxes(\n",
    "        tickvals=list(range(len(years)))[0::int(len(years)/10)],\n",
    "        ticktext=years[0::int(len(years)/10)]\n",
    "    )\n",
    "    fig.update_layout(\n",
    "        template='plotly_white',\n",
    "        title_text=topic,\n",
    "        xaxis={'title': 'years'},\n",
    "        yaxis={'title': 'nodes'},\n",
    "        legend={'x': 0, 'y': 1}\n",
    "    )\n",
    "    fig.show()\n",
    "#     fig.write_image(\n",
    "#         os.path.join(path_fig, path_plot, 'community', f\"{Cjrs}\", f\"{topic}.pdf\")\n",
    "#     )"
   ]
  },
  {
   "cell_type": "markdown",
   "metadata": {},
   "source": [
    "## Leiden - cluster"
   ]
  },
  {
   "cell_type": "markdown",
   "metadata": {},
   "source": [
    "### Runs\n",
    "\n",
    "| Run |       ID      | Notes |\n",
    "|:---:|:--------------|:------|\n",
    "|  1  | 20200708_1221 | `C_jrs=0.01` |\n",
    "|  2  | 20200709_1854 | Round year to 10s |\n",
    "|  3  | 20200710_1348 | 1 & 2 |\n",
    "|  4  | 20200715_2321 | `C_jrs=0.01`, null-target, networks in 20200708_1221 |\n",
    "|  5  | 20200717_1405 | `C_jrs=0.01`, `n_iterations=4`, null-year, networks in 20200708_1221 |\n",
    "|  6  | 20200718_1204 | `C_jrs=0.01`, `n_iterations=4`, null-year, networks not in 20200708_1221 |\n",
    "|  7  | 20200718_1418 | `C_jrs=0.01`, `n_iterations=4`, null-target, 37 networks |\n",
    "|  8  | 20200917_0008 | `C_jrs=0.02`, `n_iterations=-1`, real networks, cancelled, takes too long for some networks |\n",
    "|  9  | 20200921_1106 | `C_jrs=0.02`, `n_iterations=2`, real networks |\n",
    "|  10 | 20200921_1203 | same as `20200921_1106` for `Boolean algebra` |\n",
    "|  11 | 20200921_1340 | same as `20200921_1106` for `linear algebra` |\n",
    "|  12 | 20200921_1446 | same as `20200921_1106` for `law`, error `ValueError: std::exception` in `Optimiser.py` |\n",
    "|  13 | 20200921_1557 | `C_jrs=0.01`, `n_iterations=2`, real networks, error for `law` |\n",
    "|  14 | 20200921_1648 | `C_jrs=0.005`, `n_iterations=2`, real networks |\n",
    "|  15 | 20200921_1902 | `C_jrs=0.001`, `n_iterations=10`, real networks |\n",
    "|  16 | 20200921_2131 | `C_jrs=0.01`, `n_iterations=10`, real networks |\n",
    "|  17 | 20200921_2348 | `C_jrs=0.02`, `n_iterations=10`, real networks |\n",
    "|  18 | 20200922_1323 | `C_jrs=0.01`, `n_iterations=10`, jittered networks |"
   ]
  },
  {
   "cell_type": "markdown",
   "metadata": {},
   "source": [
    "### Import data"
   ]
  },
  {
   "cell_type": "code",
   "execution_count": null,
   "metadata": {},
   "outputs": [],
   "source": [
    "import pickle\n",
    "path_cluster = os.path.join(\n",
    "    '/', 'Users', 'harangju', 'Developer', 'data', 'wiki', 'communities'\n",
    ")"
   ]
  },
  {
   "cell_type": "code",
   "execution_count": null,
   "metadata": {},
   "outputs": [],
   "source": [
    "runs = [\n",
    "#     '20200921_1106', '20200921_1203', '20200921_1340'\n",
    "#     '20200921_1557'\n",
    "#     '20200921_1902'\n",
    "#     '20200921_2131'\n",
    "#     '20200921_2348'\n",
    "    '20200922_1323'\n",
    "]"
   ]
  },
  {
   "cell_type": "code",
   "execution_count": null,
   "metadata": {},
   "outputs": [],
   "source": [
    "null = True\n",
    "num_nulls = 1"
   ]
  },
  {
   "cell_type": "code",
   "execution_count": null,
   "metadata": {},
   "outputs": [],
   "source": [
    "filenames = {\n",
    "    run: [\n",
    "        filename\n",
    "        for filename in os.listdir(os.path.join(path_cluster, run))\n",
    "    ]\n",
    "    for run in runs\n",
    "}\n",
    "filenames[list(filenames.keys())[0]][0]"
   ]
  },
  {
   "cell_type": "code",
   "execution_count": null,
   "metadata": {},
   "outputs": [],
   "source": [
    "memberships = {}\n",
    "improvements = {}\n",
    "for run, fs in filenames.items():\n",
    "    for fname in fs:\n",
    "        topic = fname.split('_', 1)[1].split('.')[0]\n",
    "        memberships[topic], improvements[topic] = pickle.load(\n",
    "            open(os.path.join(path_cluster, run, fname), 'rb')\n",
    "        )"
   ]
  },
  {
   "cell_type": "markdown",
   "metadata": {},
   "source": [
    "### Missing"
   ]
  },
  {
   "cell_type": "code",
   "execution_count": null,
   "metadata": {
    "scrolled": false
   },
   "outputs": [],
   "source": [
    "runs = set([name.split('_')[1].split('.')[0] for run, names in filenames.items() for name in names])\n",
    "missing_topics = set(topics) - set(runs)\n",
    "{t: topics.index(t) for t in missing_topics}"
   ]
  },
  {
   "cell_type": "markdown",
   "metadata": {},
   "source": [
    "### Modularity"
   ]
  },
  {
   "cell_type": "code",
   "execution_count": null,
   "metadata": {},
   "outputs": [],
   "source": [
    "g = networkx_to_igraph(networks['earth science'].graph)\n",
    "partition = la.find_partition(g, la.ModularityVertexPartition)\n",
    "layout = g.layout('circle')\n",
    "ig.plot(\n",
    "    partition, layout=layout, bbox=(200, 200), margin=20,\n",
    "    vertex_size=5, vertex_label_size=10,\n",
    "    edge_width=0.1, edge_curved=True\n",
    ")"
   ]
  },
  {
   "cell_type": "code",
   "execution_count": null,
   "metadata": {},
   "outputs": [],
   "source": [
    "optimiser = la.Optimiser()\n",
    "diff = optimiser.optimise_partition(la.ModularityVertexPartition(g))\n",
    "diff"
   ]
  },
  {
   "cell_type": "code",
   "execution_count": null,
   "metadata": {},
   "outputs": [],
   "source": [
    "modularity = {topic: [] for topic in topics}\n",
    "optimiser = la.Optimiser()"
   ]
  },
  {
   "cell_type": "code",
   "execution_count": null,
   "metadata": {},
   "outputs": [],
   "source": [
    "for topic, net in networks.items():\n",
    "    modularity[topic].append(\n",
    "        [\n",
    "            optimiser.optimise_partition(\n",
    "                la.ModularityVertexPartition(\n",
    "                    networkx_to_igraph(nx.subgraph(\n",
    "                        net.graph, [n for n in net.graph.nodes if net.graph.nodes[n]['year']<=year]\n",
    "                    ))\n",
    "                )\n",
    "            )\n",
    "            for year in sorted(set(nx.get_node_attributes(net.graph, 'year').values()))\n",
    "        ]\n",
    "    )"
   ]
  },
  {
   "cell_type": "code",
   "execution_count": null,
   "metadata": {},
   "outputs": [],
   "source": [
    "fig = go.Figure()\n",
    "for topic, mods in modularity.items():\n",
    "    for mod in mods:\n",
    "        fig.add_trace(\n",
    "            go.Scatter(\n",
    "                x=np.arange(len(mod)), y=mod,\n",
    "                name=topic\n",
    "            )\n",
    "        )\n",
    "fig.update_layout(\n",
    "    height=300,\n",
    "    template='plotly_white',\n",
    "    title_text=topic\n",
    ")\n",
    "fig.show()"
   ]
  },
  {
   "cell_type": "markdown",
   "metadata": {},
   "source": [
    "### Plot"
   ]
  },
  {
   "cell_type": "code",
   "execution_count": null,
   "metadata": {},
   "outputs": [],
   "source": [
    "from rpy2 import robjects\n",
    "from rpy2.robjects.packages import importr\n",
    "from rpy2.robjects.vectors import FloatVector"
   ]
  },
  {
   "cell_type": "code",
   "execution_count": null,
   "metadata": {},
   "outputs": [],
   "source": [
    "import rpy2.robjects.packages as rpackages\n",
    "from rpy2.robjects.vectors import StrVector\n",
    "\n",
    "if not rpackages.isinstalled('changepoint'):\n",
    "    utils = rpackages.importr('utils')\n",
    "    utils.chooseCRANmirror(ind=1)\n",
    "    utils.install_packages(StrVector(['changepoint']))"
   ]
  },
  {
   "cell_type": "code",
   "execution_count": null,
   "metadata": {},
   "outputs": [],
   "source": [
    "cpt = importr('changepoint')\n",
    "cpt"
   ]
  },
  {
   "cell_type": "code",
   "execution_count": null,
   "metadata": {},
   "outputs": [],
   "source": [
    "import IPython\n",
    "\n",
    "Cjrs = 0.01\n",
    "path_plot = '5 modules'"
   ]
  },
  {
   "cell_type": "code",
   "execution_count": null,
   "metadata": {},
   "outputs": [],
   "source": [
    "num_changes = {}\n",
    "pts = {}\n",
    "means = {}"
   ]
  },
  {
   "cell_type": "code",
   "execution_count": null,
   "metadata": {
    "scrolled": false
   },
   "outputs": [],
   "source": [
    "for topic in memberships.keys():\n",
    "    fig = ps.make_subplots(\n",
    "        rows=2, cols=1,\n",
    "        row_heights=[.6, .4]\n",
    "    )\n",
    "#         rows=3, cols=1,\n",
    "#         row_heights=[.5, .25, .25]\n",
    "#     )\n",
    "    # get graph data\n",
    "    if null:\n",
    "        null_topic, null_iter = topic.split('_')\n",
    "        graph = null_jitter[null_topic][int(null_iter)].graph\n",
    "    else:\n",
    "        graph = networks[topic].graph\n",
    "    nodes = list(graph.nodes)\n",
    "    sorted_nodes = sorted(\n",
    "        nodes,\n",
    "        key=lambda node: graph.nodes[node]['year']\n",
    "    )\n",
    "    years = sorted(set(nx.get_node_attributes(graph, 'year').values()))\n",
    "    nodes_by_year = [\n",
    "        [n for n in nodes if graph.nodes[n]['year']<=year]\n",
    "        for year in years\n",
    "    ]\n",
    "    # plot partitions\n",
    "    partitions = sorted(list(set([j for i in memberships[topic] for j in i])))\n",
    "    for part in partitions:\n",
    "        xy = [\n",
    "            (i, sorted_nodes.index(n))\n",
    "            for i, ns in enumerate(nodes_by_year)\n",
    "            for j, n in enumerate(ns)\n",
    "            if memberships[topic][i][j]==part\n",
    "        ]\n",
    "        fig.add_trace(\n",
    "            go.Scatter(\n",
    "                x=[i[0] for i in xy],\n",
    "                y=[i[1] for i in xy],\n",
    "                mode='markers',\n",
    "                marker={'size': 2},\n",
    "                name=f\"community {part}\", showlegend=False,\n",
    "                hovertext=[sorted_nodes[i[1]] for i in xy]\n",
    "            ),\n",
    "            row=1, col=1\n",
    "        )\n",
    "    # plot number of changes\n",
    "    num_changes[topic] = calc_num_changes(\n",
    "        sorted_nodes, nodes_by_year, memberships[topic]\n",
    "    )\n",
    "    fig.add_trace(\n",
    "        go.Scatter(\n",
    "            x=np.arange(len(years)),\n",
    "            y=num_changes[topic],\n",
    "            name='number of changes', showlegend=False,\n",
    "            marker_color='black',\n",
    "            opacity=0.5\n",
    "        ),\n",
    "        row=2, col=1\n",
    "    )\n",
    "    # plot change point\n",
    "    pts[topic] = cpt.cpts(\n",
    "        cpt.cpt_meanvar(\n",
    "            FloatVector(num_changes[topic]),\n",
    "            test_stat='Poisson',\n",
    "#             method='PELT',\n",
    "            method='BinSeg', Q=3\n",
    "        )\n",
    "    )\n",
    "    for i in [1, 2]:\n",
    "        fig.add_trace(\n",
    "            go.Scatter(\n",
    "                x=[\n",
    "                    pt-.5 if i<len(nodes)-1 else None\n",
    "                    for pt in pts[topic] for i in range(len(nodes))\n",
    "                ],\n",
    "                y=[\n",
    "                    i if i<len(nodes)-1 else None\n",
    "                    for pt in pts[topic] for i in range(len(nodes))\n",
    "                ],\n",
    "                mode='lines',\n",
    "                line_dash='dash',\n",
    "                name=f\"change point\", showlegend=False,\n",
    "                marker_color='rgba(0,0,0,0.5)'\n",
    "            ),\n",
    "            row=i, col=1\n",
    "        )\n",
    "    # means\n",
    "    means[topic] = [\n",
    "        np.mean(num_changes[topic][0:int(pt)]) if i==0\n",
    "        else np.mean(num_changes[topic][int(pts[topic][i-1]):int(pt)])\n",
    "        for i, pt in enumerate(list(pts[topic]) + [num_changes[topic].size])\n",
    "    ] # which is the PEAK??\n",
    "    fig.add_trace(\n",
    "        go.Scatter(\n",
    "            x=[\n",
    "                p for pt in \n",
    "                [\n",
    "                    np.arange(int(pt)) if i==0\n",
    "                    else np.arange(int(pts[topic][i-1]), int(pt))\n",
    "                    for i, pt in enumerate(list(pts[topic]) + [num_changes[topic].size])\n",
    "                ]\n",
    "                for p in pt\n",
    "            ],\n",
    "            y=[\n",
    "                p for pt in \n",
    "                [\n",
    "                    means[topic][i] * np.ones(int(pt)) if i==0\n",
    "                    else means[topic][i] * np.ones(int(pt)-int(pts[topic][i-1]))\n",
    "                    for i, pt in enumerate(list(pts[topic]) + [num_changes[topic].size])\n",
    "                ]\n",
    "                for p in pt\n",
    "            ],\n",
    "            mode='lines',\n",
    "            name=f\"means\", showlegend=False,\n",
    "            line={'color': 'green'},\n",
    "            opacity=0.5\n",
    "        ),\n",
    "        row=2, col=1\n",
    "    )\n",
    "    # modularity\n",
    "#     fig.add_trace(\n",
    "#         go.Scatter(\n",
    "#             x=np.arange(len(modularity[topic][0])),\n",
    "#             y=modularity[topic][0],\n",
    "#             showlegend=False\n",
    "#         ),\n",
    "#         row=3, col=1\n",
    "#     )\n",
    "\n",
    "    # figure layout\n",
    "    fig.update_yaxes(\n",
    "        title_text='nodes', ticktext=[], tickvals=[],\n",
    "        row=1, col=1\n",
    "    )\n",
    "    fig.update_yaxes(\n",
    "        title_text='Number of changes', \n",
    "        range=[0, 2*np.max(num_changes[topic]).astype(int)], \n",
    "        row=2, col=1\n",
    "    )\n",
    "\n",
    "\n",
    "    fig.update_yaxes(\n",
    "        title_text='Modularity', \n",
    "        range=[0, 1], \n",
    "        row=3, col=1\n",
    "    )\n",
    "#     for i in [1, 2, 3]:\n",
    "\n",
    "    for i in [1, 2]:\n",
    "        fig.update_xaxes(\n",
    "            tickvals=list(range(len(years)))[0::int(len(years)/10)],\n",
    "            ticktext=years[0::int(len(years)/10)],\n",
    "            range=[0, len(years)],\n",
    "            row=i, col=1\n",
    "        )\n",
    "    fig.update_xaxes(title_text='years', row=2, col=1)\n",
    "    fig.update_layout(\n",
    "        template='plotly_white',\n",
    "        title_text=topic\n",
    "    )\n",
    "    fig.show()\n",
    "    fig.write_image(\n",
    "        os.path.join(path_fig, path_plot, 'community', f\"{Cjrs}_n10_jittered\", f\"{topic}.pdf\")\n",
    "    )\n",
    "    IPython.display.clear_output(wait=True)\n",
    "IPython.display.clear_output()"
   ]
  },
  {
   "cell_type": "markdown",
   "metadata": {},
   "source": [
    "### vs PELT"
   ]
  },
  {
   "cell_type": "code",
   "execution_count": null,
   "metadata": {},
   "outputs": [],
   "source": [
    "import plotly.express as px\n",
    "\n",
    "fig = px.histogram([len(v) for v in pts.values()])\n",
    "fig.update_layout(\n",
    "    width=360, height=360,\n",
    "    template='plotly_white',\n",
    "    showlegend=False,\n",
    ")\n",
    "fig.show()\n",
    "fig.write_image(os.path.join(path_fig, path_plot, 'PELT_Q_dstr.pdf'))"
   ]
  },
  {
   "cell_type": "markdown",
   "metadata": {},
   "source": [
    "### Cavities & controllability"
   ]
  },
  {
   "cell_type": "code",
   "execution_count": null,
   "metadata": {},
   "outputs": [],
   "source": [
    "barcodes = pd.concat(\n",
    "    [\n",
    "        network.barcodes.assign(topic=topic)\n",
    "        for topic, network in networks.items()\n",
    "    ],\n",
    "    ignore_index=True,\n",
    "    sort=False\n",
    ")\n",
    "barcodes = barcodes[barcodes.lifetime!=0]\n",
    "barcodes"
   ]
  },
  {
   "cell_type": "code",
   "execution_count": null,
   "metadata": {},
   "outputs": [],
   "source": [
    "import pickle\n",
    "path_save = os.path.join('/','Users','harangju','Developer','data','wiki','analysis')\n",
    "grams = pickle.load(open(os.path.join(path_save, 'grams.pickle'), 'rb'))"
   ]
  },
  {
   "cell_type": "code",
   "execution_count": null,
   "metadata": {
    "scrolled": false
   },
   "outputs": [],
   "source": [
    "grams"
   ]
  },
  {
   "cell_type": "code",
   "execution_count": null,
   "metadata": {},
   "outputs": [],
   "source": [
    "import pickle\n",
    "path_analysis = os.path.join('/','Users','harangju','Developer','data','wiki','analysis')\n",
    "cavity_participation = pickle.load(\n",
    "    open(os.path.join(path_analysis, 'cavity_participation.pickle'), 'rb')\n",
    ")\n",
    "cavity_participation"
   ]
  },
  {
   "cell_type": "code",
   "execution_count": null,
   "metadata": {},
   "outputs": [],
   "source": [
    "topic = 'biophysics'\n",
    "graph = networks[topic].graph\n",
    "nodes = list(graph.nodes)\n",
    "years = sorted(set(nx.get_node_attributes(graph, 'year').values()))\n",
    "nodes_by_year = [\n",
    "    [n for n in nodes if graph.nodes[n]['year']<=year]\n",
    "    for year in years\n",
    "]"
   ]
  },
  {
   "cell_type": "code",
   "execution_count": null,
   "metadata": {
    "scrolled": true
   },
   "outputs": [],
   "source": [
    "for topic in memberships.keys():\n",
    "    if len(pts[topic])<3:\n",
    "        print(topic, pts[topic])"
   ]
  },
  {
   "cell_type": "code",
   "execution_count": null,
   "metadata": {},
   "outputs": [],
   "source": [
    "set([\n",
    "    n\n",
    "    for pt in range(int(pts[topic][1]), int(pts[topic][2]+1))\n",
    "    for n in nodes if graph.nodes[n]['year']==years[pt]\n",
    "])"
   ]
  },
  {
   "cell_type": "code",
   "execution_count": null,
   "metadata": {},
   "outputs": [],
   "source": [
    "for topic in memberships.keys():\n",
    "    graph = networks[topic].graph\n",
    "    years = sorted(set(nx.get_node_attributes(graph, 'year').values()))\n",
    "    nodes = set(graph.nodes)\n",
    "    if len(pts[topic]) < 3:\n",
    "        print(topic)\n",
    "        continue\n",
    "    nodes_spike = set([\n",
    "        n for pt in range(int(pts[topic][1]), int(pts[topic][2]+1))\n",
    "        for n in nodes if graph.nodes[n]['year']==years[pt]\n",
    "    ])\n",
    "    nodes_diff = nodes - nodes_spike\n",
    "    ks_cntr, p_ks_cntr = sp.stats.ks_2samp(\n",
    "        grams.loc[nodes_spike]['CG_5'].values,\n",
    "        grams.loc[nodes_diff]['CG_5'].values,\n",
    "        alternative='two-sided'\n",
    "    )\n",
    "    ks_cavity_birth, p_ks_cavity_birth = sp.stats.ks_2samp(\n",
    "        cavity_participation.loc[nodes_spike]['birth simplex'].values,\n",
    "        cavity_participation.loc[nodes_diff]['birth simplex'].values,\n",
    "        alternative='two-sided'\n",
    "    )\n",
    "    ks_cavity_death, p_ks_cavity_death = sp.stats.ks_2samp(\n",
    "        cavity_participation.loc[nodes_spike]['death simplex'].values,\n",
    "        cavity_participation.loc[nodes_diff]['death simplex'].values,\n",
    "        alternative='two-sided'\n",
    "    )\n",
    "    t_cntr, p_t_cntr = sp.stats.ttest_ind(\n",
    "        grams.loc[nodes_spike]['CG_5'].values,\n",
    "        grams.loc[nodes_diff]['CG_5'].values,\n",
    "        equal_var=True\n",
    "    )\n",
    "    t_cavity_birth, p_t_cavity_birth = sp.stats.ttest_ind(\n",
    "        cavity_participation.loc[nodes_spike]['birth simplex'].values,\n",
    "        cavity_participation.loc[nodes_diff]['birth simplex'].values,\n",
    "        equal_var=True\n",
    "    )\n",
    "    t_cavity_death, p_t_cavity_death = sp.stats.ttest_ind(\n",
    "        cavity_participation.loc[nodes_spike]['death simplex'].values,\n",
    "        cavity_participation.loc[nodes_diff]['death simplex'].values,\n",
    "        equal_var=True\n",
    "    )\n",
    "    print(topic, '\\n\\t', 'ks')\n",
    "    print('\\t', 'cntr', ks_cntr, p_ks_cntr)\n",
    "    print('\\t', 'birth', ks_cavity_birth, p_ks_cavity_birth)\n",
    "    print('\\t', 'death', ks_cavity_death, p_ks_cavity_death)\n",
    "    print(topic, '\\n\\t', 't')\n",
    "    print('\\t', 'cntr', t_cntr, p_t_cntr)\n",
    "    print('\\t', 'birth', t_cavity_birth, p_t_cavity_birth)\n",
    "    print('\\t', 'death', t_cavity_death, p_t_cavity_death)"
   ]
  },
  {
   "cell_type": "markdown",
   "metadata": {},
   "source": [
    "### Plot shifts"
   ]
  },
  {
   "cell_type": "code",
   "execution_count": null,
   "metadata": {
    "scrolled": false
   },
   "outputs": [],
   "source": [
    "num_changes"
   ]
  },
  {
   "cell_type": "code",
   "execution_count": null,
   "metadata": {
    "scrolled": true
   },
   "outputs": [],
   "source": [
    "from scipy.stats import expon\n",
    "\n",
    "for topic, changes in num_changes.items():\n",
    "    graph = networks[topic].graph\n",
    "    nodes = list(graph.nodes)\n",
    "    years = sorted(set(nx.get_node_attributes(graph, 'year').values()))\n",
    "    nodes_by_year = [\n",
    "        [n for n in nodes if graph.nodes[n]['year']<=year]\n",
    "        for year in years\n",
    "    ]\n",
    "#     norm_changes = changes / np.array([len(ns) for ns in nodes_by_year])\n",
    "    norm_changes = changes * np.divide(\n",
    "        np.array([len(ns) for ns in nodes_by_year]),\n",
    "        np.ones(len(nodes_by_year)) * len(nodes)\n",
    "    )\n",
    "    norm_changes = changes / np.array([len(ns) for ns in nodes_by_year])\n",
    "    hist, bin_edges = np.histogram(norm_changes, density=True, bins=20)\n",
    "    bins = 0.5 * (bin_edges[:-1] + bin_edges[1:])\n",
    "    fig = px.bar(x=bins, y=hist)\n",
    "    x = np.arange(.5, np.max(bin_edges), .1)\n",
    "    l = expon.fit(norm_changes)\n",
    "    fig.add_trace(go.Scatter(x=x, y=l[1]*np.exp(-l[1]*x), mode='lines', opacity=0.5))\n",
    "    fig.update_layout(\n",
    "        width=600, height=300,\n",
    "        template='plotly_white',\n",
    "        title_text=topic, showlegend=False,\n",
    "        xaxis={'title': 'number of changes'},\n",
    "        yaxis={'title': 'density'}\n",
    "    )\n",
    "    fig.show()\n",
    "    fig.write_image(\n",
    "        os.path.join(path_fig, path_plot, 'community', f\"{Cjrs}\", f\"distribution_{topic}.jpg\")\n",
    "    )"
   ]
  },
  {
   "cell_type": "markdown",
   "metadata": {},
   "source": [
    "### Distributions"
   ]
  },
  {
   "cell_type": "code",
   "execution_count": null,
   "metadata": {},
   "outputs": [],
   "source": [
    "topics_memberships = list(memberships.keys())"
   ]
  },
  {
   "cell_type": "code",
   "execution_count": null,
   "metadata": {},
   "outputs": [],
   "source": [
    "all_durs = [\n",
    "    diff\n",
    "    for topic in topics_memberships\n",
    "    for diff in np.diff(\n",
    "        [0] + list(pts[topic]) + [\n",
    "            len(set(nx.get_node_attributes(networks[topic].graph, 'year').values()))\n",
    "        ]\n",
    "    )\n",
    "]\n",
    "hist_durs, bins_durs = np.histogram(all_durs, bins=20)\n",
    "bins_durs = 0.5 * (bins_durs[:-1] + bins_durs[1:])\n",
    "bins_durs, hist_durs"
   ]
  },
  {
   "cell_type": "code",
   "execution_count": null,
   "metadata": {},
   "outputs": [],
   "source": [
    "years = {\n",
    "    topic: list(set(nx.get_node_attributes(networks[topic].graph, 'year').values()))\n",
    "    for topic in topics_memberships\n",
    "}"
   ]
  },
  {
   "cell_type": "code",
   "execution_count": null,
   "metadata": {},
   "outputs": [],
   "source": [
    "all_durs_year = [\n",
    "    abs(diff)\n",
    "    for topic in topics_memberships\n",
    "    for diff in np.diff(\n",
    "        [years[topic][0]] + [years[topic][y] for y in pts[topic]] + [years[topic][-1]]\n",
    "    )\n",
    "]\n",
    "hist_durs_year, bins_durs_year = np.histogram(all_durs_year, bins=20)\n",
    "bins_durs_year = 0.5 * (bins_durs_year[:-1] + bins_durs_year[1:])\n",
    "bins_durs_year, hist_durs_year"
   ]
  },
  {
   "cell_type": "code",
   "execution_count": null,
   "metadata": {},
   "outputs": [],
   "source": [
    "all_means = [\n",
    "    m\n",
    "    for topic in topics_memberships\n",
    "    for m in means[topic]\n",
    "]\n",
    "hist_means, bins_means = np.histogram(all_means, bins=20)\n",
    "bins_means = 0.5 * (bins_means[:-1] + bins_means[1:])\n",
    "bins_means, hist_means"
   ]
  },
  {
   "cell_type": "code",
   "execution_count": null,
   "metadata": {},
   "outputs": [],
   "source": [
    "fig = ps.make_subplots(\n",
    "    rows=2, cols=3\n",
    ")\n",
    "fig.add_trace(\n",
    "    go.Box(x=bins_durs, y=hist_durs),\n",
    "    row=1, col=1\n",
    ")\n",
    "fig.add_trace(\n",
    "    go.Box(x=bins_means, y=hist_means),\n",
    "    row=1, col=2\n",
    ")\n",
    "fig.add_trace(\n",
    "    go.Box(x=bins_durs_year, y=hist_durs_year),\n",
    "    row=1, col=3\n",
    ")\n",
    "fig.add_trace(\n",
    "    go.Scatter(\n",
    "        x=all_durs, y=all_means, mode='markers', marker_size=3,\n",
    "        hovertext=[topic for topic in topics_memberships for _ in range(len(means[topic]))]\n",
    "    ),\n",
    "    row=2, col=1\n",
    ")\n",
    "fig.add_trace(\n",
    "    go.Scatter(\n",
    "        x=all_durs_year, y=all_means, mode='markers', marker_size=3,\n",
    "        hovertext=[topic for topic in topics_memberships for _ in range(len(means[topic]))]\n",
    "    ),\n",
    "    row=2, col=2\n",
    ")\n",
    "fig.update_xaxes(title_text='durations (steps)', row=1, col=1)\n",
    "fig.update_yaxes(title_text='counts', row=1, col=1)\n",
    "fig.update_xaxes(title_text='means', row=1, col=2)\n",
    "fig.update_yaxes(title_text='counts', row=1, col=2)\n",
    "fig.update_xaxes(title_text='durations (years)', row=1, col=3)\n",
    "fig.update_yaxes(title_text='counts', row=1, col=3)\n",
    "fig.update_xaxes(title_text='durations (steps)', row=2, col=1)\n",
    "fig.update_yaxes(title_text='means', row=2, col=1)\n",
    "fig.update_xaxes(title_text='durations (years)', row=2, col=2)\n",
    "fig.update_yaxes(title_text='means', row=2, col=2)\n",
    "fig.update_layout(\n",
    "    height=800,\n",
    "    template='plotly_white',\n",
    "    title_text='Paradigms',\n",
    "    showlegend=False\n",
    ")\n",
    "fig.show()"
   ]
  },
  {
   "cell_type": "markdown",
   "metadata": {},
   "source": [
    "### Signature"
   ]
  },
  {
   "cell_type": "code",
   "execution_count": null,
   "metadata": {},
   "outputs": [],
   "source": [
    "topics_memberships = list(memberships.keys())"
   ]
  },
  {
   "cell_type": "code",
   "execution_count": null,
   "metadata": {},
   "outputs": [],
   "source": [
    "colors_hex = [h[1:] for h in px.colors.qualitative.Plotly]\n",
    "colors_rgb = [\n",
    "    [\n",
    "        int(h[i:i+2], 16)\n",
    "        for i in (0, 2, 4)\n",
    "    ]\n",
    "    for h in colors_hex\n",
    "]\n",
    "colors_rgb"
   ]
  },
  {
   "cell_type": "code",
   "execution_count": null,
   "metadata": {},
   "outputs": [],
   "source": [
    "if null:\n",
    "    years = {\n",
    "        topic: sorted(set(nx.get_node_attributes(\n",
    "            null_jitter[topic.split('_')[0]][int(topic.split('_')[1])].graph, 'year'\n",
    "        ).values()))\n",
    "        for topic in topics_memberships\n",
    "    }\n",
    "else:\n",
    "    years = {\n",
    "        topic: sorted(set(nx.get_node_attributes(networks[topic].graph, 'year').values()))\n",
    "        for topic in topics_memberships\n",
    "    }"
   ]
  },
  {
   "cell_type": "code",
   "execution_count": null,
   "metadata": {},
   "outputs": [],
   "source": [
    "# BigSeg, Q=3\n",
    "Q = 3\n",
    "epochs = Q+1\n",
    "fig = go.Figure()\n",
    "fig = ps.make_subplots(\n",
    "    rows=1, cols=3\n",
    ")\n",
    "means_array = np.array([\n",
    "    [0]*(epochs-len(m)) + m\n",
    "    for t, m in means.items()\n",
    "])\n",
    "pts_array = np.array([\n",
    "    np.diff(\n",
    "        [0]*(epochs-len(pt)) + [int(p) for p in pt] + [len(years[t])-1]\n",
    "    )\n",
    "    for t, pt in pts.items()\n",
    "])\n",
    "years_array = np.array([\n",
    "    np.diff(\n",
    "        [years[t][0]]*(epochs-len(pt)) + [years[t][int(p)] for p in pt] + [years[t][-1]]\n",
    "#         [\n",
    "#             years[t][p]\n",
    "#             for p in [0]*(epochs-len(pt)) + [int(p) for p in pt] + [len(years[t])-1]\n",
    "#         ]\n",
    "    )\n",
    "    for t, pt in pts.items()\n",
    "])\n",
    "for i in range(means_array.shape[0]):\n",
    "    fig.add_trace(\n",
    "        go.Scatter(\n",
    "            x=1+np.arange(epochs),\n",
    "            y=means_array[i,:],\n",
    "            mode='lines',\n",
    "            hovertext=topics_memberships[i],\n",
    "            line={\n",
    "                'color': f\"rgba({colors_rgb[i%10][0]},{colors_rgb[i%10][1]},{colors_rgb[i%10][2]},0.5)\"\n",
    "            }\n",
    "        ),\n",
    "        row=1, col=1\n",
    "    )\n",
    "for i in range(pts_array.shape[0]):\n",
    "    color = f\"rgba({colors_rgb[i%10][0]},{colors_rgb[i%10][1]},{colors_rgb[i%10][2]},0.5)\"\n",
    "    fig.add_trace(\n",
    "        go.Scatter(\n",
    "            x=1+np.arange(epochs),\n",
    "            y=pts_array[i,:],\n",
    "            mode='lines',\n",
    "            hovertext=topics_memberships[i],\n",
    "            line={'color': color}\n",
    "        ),\n",
    "        row=1, col=2\n",
    "    )\n",
    "    fig.add_trace(\n",
    "        go.Scatter(\n",
    "            x=1+np.arange(epochs),\n",
    "            y=years_array[i,:],\n",
    "            mode='lines',\n",
    "            hovertext=topics_memberships[i],\n",
    "            line={'color': color}\n",
    "        ),\n",
    "        row=1, col=3\n",
    "    )\n",
    "fig.add_trace(\n",
    "    go.Scatter(\n",
    "        x=1+np.arange(epochs),\n",
    "        y=means_array.mean(axis=0),\n",
    "        mode='lines',\n",
    "        line={'color': 'rgba(0,0,0,1)'}\n",
    "    ),\n",
    "    row=1, col=1\n",
    ")\n",
    "fig.add_trace(\n",
    "    go.Scatter(\n",
    "        x=1+np.arange(epochs),\n",
    "        y=pts_array.mean(axis=0),\n",
    "        mode='lines',\n",
    "        line={'color': 'rgba(0,0,0,1)'}\n",
    "    ),\n",
    "    row=1, col=2\n",
    ")\n",
    "fig.add_trace(\n",
    "    go.Scatter(\n",
    "        x=1+np.arange(epochs),\n",
    "        y=years_array.mean(axis=0),\n",
    "        mode='lines',\n",
    "        line={'color': 'rgba(0,0,0,1)'}\n",
    "    ),\n",
    "    row=1, col=3\n",
    ")\n",
    "fig.update_xaxes(title_text='epoch', range=[.5, Q+1.5])\n",
    "fig.update_yaxes(title_text='avg # changes', row=1, col=1)\n",
    "fig.update_yaxes(title_text='duration (steps)', row=1, col=2)\n",
    "fig.update_yaxes(title_text='duration (years)', row=1, col=3)\n",
    "fig.update_layout(\n",
    "    height=400,\n",
    "    template='plotly_white',\n",
    "    title_text='Signature',\n",
    "    showlegend=False\n",
    ")\n",
    "fig.show()\n",
    "fig.write_image(\n",
    "    os.path.join(path_fig, path_plot, 'community', f\"{Cjrs}_n10_jittered\", f\"signature.pdf\")\n",
    ")"
   ]
  },
  {
   "cell_type": "code",
   "execution_count": null,
   "metadata": {},
   "outputs": [],
   "source": [
    "len(sorted([topics_memberships[i] for i, m in enumerate(means_array) if m[1]>m[2]]))/len(topics)/10"
   ]
  },
  {
   "cell_type": "markdown",
   "metadata": {},
   "source": [
    "## Leiden vs Nobel/IR"
   ]
  },
  {
   "cell_type": "code",
   "execution_count": null,
   "metadata": {},
   "outputs": [],
   "source": []
  },
  {
   "cell_type": "markdown",
   "metadata": {},
   "source": [
    "## Leiden vs Fields"
   ]
  },
  {
   "cell_type": "code",
   "execution_count": null,
   "metadata": {},
   "outputs": [],
   "source": []
  }
 ],
 "metadata": {
  "kernelspec": {
   "display_name": "Python 3",
   "language": "python",
   "name": "python3"
  },
  "language_info": {
   "codemirror_mode": {
    "name": "ipython",
    "version": 3
   },
   "file_extension": ".py",
   "mimetype": "text/x-python",
   "name": "python",
   "nbconvert_exporter": "python",
   "pygments_lexer": "ipython3",
   "version": "3.7.6"
  },
  "toc": {
   "base_numbering": 1,
   "nav_menu": {},
   "number_sections": true,
   "sideBar": true,
   "skip_h1_title": false,
   "title_cell": "Table of Contents",
   "title_sidebar": "Contents",
   "toc_cell": false,
   "toc_position": {
    "height": "819px",
    "left": "37px",
    "top": "110px",
    "width": "189.59375px"
   },
   "toc_section_display": true,
   "toc_window_display": true
  }
 },
 "nbformat": 4,
 "nbformat_minor": 2
}
